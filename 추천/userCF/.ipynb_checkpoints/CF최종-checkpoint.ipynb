{
 "cells": [
  {
   "cell_type": "code",
   "execution_count": 1,
   "metadata": {},
   "outputs": [],
   "source": [
    "import csv\n",
    "import json\n",
    "import re\n",
    "import collections\n",
    "import pandas as pd\n",
    "from sklearn.metrics.pairwise import cosine_similarity\n",
    "\n",
    "file = open('all_ubic_click_action_1013.txt',mode='r').read()\n",
    "file_json = json.loads(file)\n",
    "\n",
    "columns = list(file_json[0].keys()) + ['actionType_score']\n",
    "\n",
    "score = {\n",
    "    'cart-create': 3 ,\n",
    "    'order-create': 5,\n",
    "    'click': 2 ,\n",
    "    'hover': 1,\n",
    "    'order-cancel': -6,\n",
    "    'cart-cancel': -4,\n",
    "\n",
    "    'cart-modify-plus': 3,\n",
    "    'cart-modify-minus': -3,\n",
    "}\n",
    "\n",
    "columns_value_list = []\n",
    "\n",
    "for row in file_json:\n",
    "    \n",
    "    # 왼쪽부터 순차적으로 검사하나보다\n",
    "    if str(row['userId']).isdigit() and str(row['productId']).isdigit() and 'categoryId' in row and str(row['categoryId']).isdigit():\n",
    "        row['userId'] = int(row['userId'])\n",
    "        row['productId'] = int(row['productId'])\n",
    "        row['categoryId'] = int(row['categoryId'])\n",
    "        \n",
    "        if row['actionType'] in score:\n",
    "            row['actionType_score'] = score[row['actionType']]\n",
    "        else:\n",
    "            row['actionType_score'] = 0\n",
    "\n",
    "        columns_value_list.append(list(row.values()))\n",
    "\n",
    "base_df = pd.DataFrame(columns_value_list, columns=columns)\n",
    "\n",
    "w_actionType_df = base_df[['userId', 'productId', 'actionType_score']]\n",
    "\n",
    "actionType_matrix_itemCF = w_actionType_df.pivot_table('actionType_score', index='userId', columns='productId')\n",
    "actionType_matrix_itemCF = actionType_matrix_itemCF.fillna(0)\n",
    "\n",
    "actionType_matrix_userCF = w_actionType_df.pivot_table('actionType_score', index='productId', columns='userId')\n",
    "actionType_matrix_userCF = actionType_matrix_userCF.fillna(0)\n",
    "\n"
   ]
  },
  {
   "cell_type": "code",
   "execution_count": null,
   "metadata": {},
   "outputs": [],
   "source": []
  },
  {
   "cell_type": "code",
   "execution_count": 2,
   "metadata": {},
   "outputs": [
    {
     "data": {
      "text/plain": [
       "[107, 108, 2123, 3723]"
      ]
     },
     "execution_count": 2,
     "metadata": {},
     "output_type": "execute_result"
    }
   ],
   "source": [
    "# itemId - itemId list\n",
    "item_similarity = cosine_similarity(actionType_matrix_userCF)\n",
    "item_sim_df = pd.DataFrame(data=item_similarity, index=actionType_matrix_userCF.index, columns=actionType_matrix_userCF.index) # 행으로 연산하는거 맞다\n",
    "# 루프 돌면서 : itemId\n",
    "list(item_sim_df[106].sort_values(ascending=False)[1:1+4].index)"
   ]
  },
  {
   "cell_type": "code",
   "execution_count": 4,
   "metadata": {},
   "outputs": [
    {
     "data": {
      "text/plain": [
       "[109, 116, 125, 131]"
      ]
     },
     "execution_count": 4,
     "metadata": {},
     "output_type": "execute_result"
    }
   ],
   "source": [
    "# userId - userId[0] - itemId\n",
    "# 루프 돌면서 : userId\n",
    "sim_userId = actionType_matrix_userCF.corrwith(actionType_matrix_userCF[1011]).sort_values(ascending=False).index[1]\n",
    "mid_itemId = actionType_matrix_userCF[sim_userId].sort_values(ascending=False).index[0]\n",
    "\n",
    "# 루프 돌면서 : itemId\n",
    "list(item_sim_df[mid_itemId].sort_values(ascending=False)[1:1+4].index)"
   ]
  },
  {
   "cell_type": "code",
   "execution_count": null,
   "metadata": {},
   "outputs": [],
   "source": []
  }
 ],
 "metadata": {
  "kernelspec": {
   "display_name": "Python 3",
   "language": "python",
   "name": "python3"
  },
  "language_info": {
   "codemirror_mode": {
    "name": "ipython",
    "version": 3
   },
   "file_extension": ".py",
   "mimetype": "text/x-python",
   "name": "python",
   "nbconvert_exporter": "python",
   "pygments_lexer": "ipython3",
   "version": "3.6.8"
  }
 },
 "nbformat": 4,
 "nbformat_minor": 4
}
