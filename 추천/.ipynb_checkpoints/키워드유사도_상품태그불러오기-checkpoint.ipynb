{
 "cells": [
  {
   "cell_type": "code",
   "execution_count": 1,
   "metadata": {
    "id": "q74nDI9eixeo"
   },
   "outputs": [],
   "source": [
    "import csv\n",
    "import json\n",
    "import re\n",
    "import collections\n",
    "import pandas as pd\n",
    "from sklearn.feature_extraction.text import CountVectorizer\n",
    "from sklearn.metrics.pairwise import cosine_similarity\n",
    "import pprint\n",
    "pp=pprint.PrettyPrinter(indent=4)"
   ]
  },
  {
   "cell_type": "code",
   "execution_count": null,
   "metadata": {
    "colab": {
     "base_uri": "https://localhost:8080/",
     "height": 52
    },
    "id": "2EaME_tmlCL_",
    "outputId": "de9262d2-508e-484d-e9f6-d60a5fef3f4b"
   },
   "outputs": [],
   "source": [
    "from google.colab import auth\n",
    "auth.authenticate_user()\n",
    "\n",
    "from google.colab import drive\n",
    "drive.mount('/content/gdrive')"
   ]
  },
  {
   "cell_type": "code",
   "execution_count": null,
   "metadata": {
    "colab": {
     "base_uri": "https://localhost:8080/",
     "height": 70
    },
    "id": "66Jx7FEplSnG",
    "outputId": "0a7c7583-fe29-423a-a001-961a1be116be"
   },
   "outputs": [],
   "source": [
    "%cd gdrive/My Drive/추천"
   ]
  },
  {
   "cell_type": "code",
   "execution_count": null,
   "metadata": {
    "id": "T2XAH0HSlajs"
   },
   "outputs": [],
   "source": [
    "#ls"
   ]
  },
  {
   "cell_type": "code",
   "execution_count": null,
   "metadata": {
    "colab": {
     "base_uri": "https://localhost:8080/",
     "height": 52
    },
    "id": "6Pvn-Ib9kFWq",
    "outputId": "2773da29-6879-4862-cb98-28961a5f4f3d"
   },
   "outputs": [],
   "source": [
    "csvfile = open('query_results2.txt', 'r')\n",
    "fieldnames = (\"product_NAME\",\"tag_NAME\")\n",
    "reader = csv.DictReader(csvfile, fieldnames)\n",
    "print(reader)"
   ]
  },
  {
   "cell_type": "markdown",
   "metadata": {
    "id": "iMTNODgyLaPd"
   },
   "source": [
    "읽은 파일을 저장하기"
   ]
  },
  {
   "cell_type": "code",
   "execution_count": null,
   "metadata": {
    "id": "GRn5iC3210tP"
   },
   "outputs": [],
   "source": [
    "product_tag_list = collections.defaultdict(list)\n",
    "\n",
    "for row in reader:\n",
    "#     print(row['product_NAME'])\n",
    "    #print(row['product_NAME'], '\\n', row['tag_NAME'])\n",
    "    col_name=['name','keywords']\n",
    "\n",
    "    product_tag_list[row['product_NAME']].append(row['tag_NAME'])"
   ]
  },
  {
   "cell_type": "code",
   "execution_count": null,
   "metadata": {
    "colab": {
     "base_uri": "https://localhost:8080/",
     "height": 34
    },
    "id": "qzqvZP2uGPg0",
    "outputId": "207914fc-4ba0-4ce5-e8c5-6fcf02d3b6ec"
   },
   "outputs": [],
   "source": [
    "len(product_tag_list)\n",
    "type(product_tag_list)"
   ]
  },
  {
   "cell_type": "code",
   "execution_count": null,
   "metadata": {
    "colab": {
     "base_uri": "https://localhost:8080/",
     "height": 34
    },
    "id": "ls-vzApMGiBG",
    "outputId": "53e28bc2-7048-4cb9-f2df-3d627911cd6d"
   },
   "outputs": [],
   "source": [
    "type(product_tag_list)"
   ]
  },
  {
   "cell_type": "code",
   "execution_count": null,
   "metadata": {
    "colab": {
     "base_uri": "https://localhost:8080/",
     "height": 1000
    },
    "id": "Zp8FY_rhF65W",
    "outputId": "ed48b621-f6e4-48c3-db36-36194f9cea9e"
   },
   "outputs": [],
   "source": [
    "product_tag_list"
   ]
  },
  {
   "cell_type": "code",
   "execution_count": null,
   "metadata": {
    "id": "GnvGZizgixex"
   },
   "outputs": [],
   "source": [
    "dic = dict(product_tag_list)"
   ]
  },
  {
   "cell_type": "markdown",
   "metadata": {
    "id": "YxpHCFwSM0tf"
   },
   "source": []
  },
  {
   "cell_type": "code",
   "execution_count": null,
   "metadata": {
    "colab": {
     "base_uri": "https://localhost:8080/",
     "height": 1000
    },
    "id": "yBLTLFxMixe0",
    "outputId": "169bf3b1-d45b-4ce4-8f5e-c28c2b492420"
   },
   "outputs": [],
   "source": [
    "for d in dic:\n",
    "  print(d)"
   ]
  },
  {
   "cell_type": "markdown",
   "metadata": {
    "id": "Ndj16JjMM68O"
   },
   "source": [
    "Data Cleaning: 태그, 상품 설명 정제하기"
   ]
  },
  {
   "cell_type": "code",
   "execution_count": null,
   "metadata": {
    "id": "cMgr5uCZ62Il"
   },
   "outputs": [],
   "source": [
    "text_to_remove=['/','.','&','!','(',')','g','kg','~','%','1','2','의','가','안','으로','습니다','는','를','ㅁ','이','없이','어'] #제거할 태그(특수문자, 단위, 조사 등)\n",
    "\n",
    "dic2={}\n",
    "\n",
    "for key,val in dic.items():\n",
    "  for k in key.split():\n",
    "    val.append(k)\n",
    "  val=list(set(val)) #중복 제거\n",
    "  for i in range(len(text_to_remove)):\n",
    "    tmp=text_to_remove[i]\n",
    "    if tmp in val:\n",
    "      val.remove(tmp)\n",
    "  for n in val:\n",
    "    s=re.sub('[-=+,#/\\?:^$.@*\\\"※~&%ㆍ!』\\\\‘|\\(\\)\\[\\]\\<\\>`\\'…》]', '', n)\n",
    "    t=re.sub('\\d+g','',s)\n",
    "    #print(n,t)\n",
    "    val.remove(n)\n",
    "    val.append(t)\n",
    "  for n in val:\n",
    "    if n.isdigit():\n",
    "      val.remove(n)\n",
    "      #print(n)\n",
    "      continue\n",
    "      #print(n)\n",
    "    if 'g' in n:\n",
    "      val.remove(n)\n",
    "      continue\n",
    "  if '' in val:\n",
    "    val.remove('')\n",
    "  val.sort()\n",
    "  #print(key,val)\n",
    "  dic2[key]=val\n",
    "  #print(val)"
   ]
  },
  {
   "cell_type": "code",
   "execution_count": null,
   "metadata": {
    "colab": {
     "base_uri": "https://localhost:8080/",
     "height": 1000
    },
    "id": "PT4CDwQP6oc8",
    "outputId": "fe36e2f1-2d49-404d-92b0-30c7b543b26f"
   },
   "outputs": [],
   "source": [
    " doc_list=[]\n",
    " for key, val in dic2.items():\n",
    "    doc_list_row = []\n",
    "    col_name = ['name','keywords']\n",
    "    \n",
    "    doc_list_row.append(key)\n",
    "    doc_list_row.append(val)\n",
    "    \n",
    "    doc_list.append(doc_list_row)\n",
    "    print(\"key = {key}, value={value}\".format(key=key,value=val))"
   ]
  },
  {
   "cell_type": "code",
   "execution_count": null,
   "metadata": {
    "colab": {
     "base_uri": "https://localhost:8080/",
     "height": 1000
    },
    "id": "GlLyvzPdLViT",
    "outputId": "a9444a38-2fd7-4dc7-a3aa-3f0aeea01cfc"
   },
   "outputs": [],
   "source": [
    "doc_list"
   ]
  },
  {
   "cell_type": "code",
   "execution_count": null,
   "metadata": {
    "id": "MTcRRNjsHUCz"
   },
   "outputs": [],
   "source": [
    "#df = pd.DataFrame.from_dict(dic2, orient='index')"
   ]
  },
  {
   "cell_type": "markdown",
   "metadata": {
    "id": "rTM03p8vNTkU"
   },
   "source": [
    "데이터프레임 형태로 변경"
   ]
  },
  {
   "cell_type": "code",
   "execution_count": null,
   "metadata": {
    "colab": {
     "base_uri": "https://localhost:8080/",
     "height": 402
    },
    "id": "TYL0jurpLbfO",
    "outputId": "c668bab5-1228-41d7-ca5d-b894e20fd3c4"
   },
   "outputs": [],
   "source": [
    "keyword_df = pd.DataFrame(doc_list, columns=col_name)\n",
    "keyword_df"
   ]
  },
  {
   "cell_type": "markdown",
   "metadata": {
    "id": "op2fQa7KNZA9"
   },
   "source": [
    "keywords 리스트 원소들을 공백으로 이어붙임"
   ]
  },
  {
   "cell_type": "code",
   "execution_count": null,
   "metadata": {
    "colab": {
     "base_uri": "https://localhost:8080/",
     "height": 402
    },
    "id": "9rel3aA9HWOx",
    "outputId": "9a2868fa-73ee-4425-adba-07c05251e3ef"
   },
   "outputs": [],
   "source": [
    "keyword_df['keywords'] = keyword_df['keywords'].apply(lambda x: (' ').join(x))\n",
    "keyword_df"
   ]
  },
  {
   "cell_type": "code",
   "execution_count": null,
   "metadata": {
    "id": "OCfocQvAEeqs"
   },
   "outputs": [],
   "source": [
    "count_vect = CountVectorizer(min_df=0, ngram_range=(1,2))\n",
    "keyword_mat = count_vect.fit_transform(keyword_df['keywords']) # 피처 벡터화된 행렬 추출"
   ]
  },
  {
   "cell_type": "code",
   "execution_count": null,
   "metadata": {
    "colab": {
     "base_uri": "https://localhost:8080/",
     "height": 34
    },
    "id": "ZS7wsJZta1hR",
    "outputId": "3a2940c0-b350-4444-e0cb-228e96812da5"
   },
   "outputs": [],
   "source": [
    "keyword_mat.shape"
   ]
  },
  {
   "cell_type": "markdown",
   "metadata": {
    "id": "wDiWw80JN8hF"
   },
   "source": [
    "피처 벡터화된 행렬에 코사인 유사도를 적용"
   ]
  },
  {
   "cell_type": "code",
   "execution_count": null,
   "metadata": {
    "colab": {
     "base_uri": "https://localhost:8080/",
     "height": 34
    },
    "id": "MMt5BvppH2oe",
    "outputId": "a75c4bae-4234-4902-ed79-b99f2909dda6"
   },
   "outputs": [],
   "source": [
    "keyword_sim = cosine_similarity(keyword_mat, keyword_mat)\n",
    "keyword_sim[0,:]"
   ]
  },
  {
   "cell_type": "code",
   "execution_count": null,
   "metadata": {
    "colab": {
     "base_uri": "https://localhost:8080/",
     "height": 193
    },
    "id": "euUexafxhBpB",
    "outputId": "b4f1c388-a18f-4b89-9f3c-ffba0796d626"
   },
   "outputs": [],
   "source": [
    "for i in range(10):\n",
    "  print(keyword_sim[i,:])"
   ]
  },
  {
   "cell_type": "code",
   "execution_count": null,
   "metadata": {
    "colab": {
     "base_uri": "https://localhost:8080/",
     "height": 34
    },
    "id": "2myCV7OpH5zx",
    "outputId": "9f613b38-7424-4029-9bfe-bd907cc0d80e"
   },
   "outputs": [],
   "source": [
    "keyword_sim.shape"
   ]
  },
  {
   "cell_type": "markdown",
   "metadata": {
    "id": "kr835ZsTNuL6"
   },
   "source": [
    "유사도가 내림차 순으로 정렬된 행렬의 인덱스를 가져오기"
   ]
  },
  {
   "cell_type": "code",
   "execution_count": null,
   "metadata": {
    "colab": {
     "base_uri": "https://localhost:8080/",
     "height": 34
    },
    "id": "dLbgOo9CJeYr",
    "outputId": "36a61230-abbd-42fb-84ed-a5712d6fae67"
   },
   "outputs": [],
   "source": [
    "keyword_sim_sorted_index = keyword_sim.argsort()[:,::-1]\n",
    "keyword_sim_sorted_index[:,0] # 모든 행(모든 아이템)에 대해 유사도가 가장 놓은 아이템(첫 열) 인덱스를 추출한다"
   ]
  },
  {
   "cell_type": "markdown",
   "metadata": {
    "id": "Bs_WGZeMOJGR"
   },
   "source": [
    "유사도가 높은 5순위 상품들의 인덱스"
   ]
  },
  {
   "cell_type": "code",
   "execution_count": null,
   "metadata": {
    "colab": {
     "base_uri": "https://localhost:8080/",
     "height": 34
    },
    "id": "UAz4ZpZ8JgsW",
    "outputId": "ab2361d6-2c50-4a48-89d8-59796625cd97"
   },
   "outputs": [],
   "source": [
    "index_list = keyword_sim_sorted_index[:,1].tolist() # 0은 자기자신, 1은 그 다음 유사도 높은 아이템 인덱스\n",
    "index_list2 = keyword_sim_sorted_index[:,2].tolist() \n",
    "index_list3 = keyword_sim_sorted_index[:,3].tolist() \n",
    "index_list4 = keyword_sim_sorted_index[:,4].tolist() \n",
    "index_list5 = keyword_sim_sorted_index[:,5].tolist() \n",
    "\n",
    "type(index_list)"
   ]
  },
  {
   "cell_type": "code",
   "execution_count": null,
   "metadata": {
    "id": "S9xyvyKKeb2W"
   },
   "outputs": [],
   "source": [
    "#pp.pprint(index_list2)"
   ]
  },
  {
   "cell_type": "code",
   "execution_count": null,
   "metadata": {
    "colab": {
     "base_uri": "https://localhost:8080/",
     "height": 34
    },
    "id": "aXvpCd7TJkw8",
    "outputId": "074e259a-32dd-49a2-c2d9-fb2efe1c1e19"
   },
   "outputs": [],
   "source": [
    "len(index_list)"
   ]
  },
  {
   "cell_type": "markdown",
   "metadata": {
    "id": "hCD0pa8JOT1C"
   },
   "source": [
    "\n",
    "최초 DataFrame 은 keyword_df.\n",
    "\n",
    "keyword_df.iloc[숫자]"
   ]
  },
  {
   "cell_type": "code",
   "execution_count": null,
   "metadata": {
    "colab": {
     "base_uri": "https://localhost:8080/",
     "height": 1000
    },
    "id": "SG8kT2JYJm-4",
    "outputId": "e24aee02-7b25-40a1-868c-102fa25b4a20"
   },
   "outputs": [],
   "source": [
    "\n",
    "for i in range(len(index_list)): # 범위 [0,len(index_list))\n",
    "    # keyword_df.iloc[i]['name'] # 판다스 접근? .? [컬럼명?] : 컬럼명으로 접근 잘된다\n",
    "    if keyword_df.iloc[i][0]==keyword_df.iloc[index_list[i]][0]:\n",
    "      continue\n",
    "    print(\">>기준 상품:\",keyword_df.iloc[i][0])\n",
    "    print(\"키워드:\",keyword_df.iloc[i][1]) \n",
    "    \n",
    "    \n",
    "    print(\">유사 상품1:\", keyword_df.iloc[index_list[i]][0]) \n",
    "    print(\"키워드:\", keyword_df.iloc[index_list[i]][1]) \n",
    "\n",
    "    print(\">유사 상품2:\", keyword_df.iloc[index_list2[i]][0]) \n",
    "    print(\"키워드:\", keyword_df.iloc[index_list2[i]][1]) \n",
    "\n",
    "    print(\">유사 상품3:\", keyword_df.iloc[index_list3[i]][0]) \n",
    "    print(\"키워드:\", keyword_df.iloc[index_list3[i]][1]) \n",
    "\n",
    "    print(\">유사 상품4:\", keyword_df.iloc[index_list4[i]][0]) \n",
    "    print(\"키워드:\", keyword_df.iloc[index_list4[i]][1]) \n",
    "\n",
    "    print(\">유사 상품5:\", keyword_df.iloc[index_list5[i]][0]) \n",
    "    print(\"키워드:\", keyword_df.iloc[index_list5[i]][1]) \n",
    "    \n",
    "    print(\"===================================================================\")\n",
    "    #keyword_df.iloc[index_list[i]]['name']"
   ]
  },
  {
   "cell_type": "code",
   "execution_count": null,
   "metadata": {
    "id": "ZyJu6b4vJqBU"
   },
   "outputs": [],
   "source": []
  }
 ],
 "metadata": {
  "accelerator": "GPU",
  "colab": {
   "name": "키워드유사도_상품태그불러오기.ipynb",
   "provenance": []
  },
  "kernelspec": {
   "display_name": "Python 3",
   "language": "python",
   "name": "python3"
  },
  "language_info": {
   "codemirror_mode": {
    "name": "ipython",
    "version": 3
   },
   "file_extension": ".py",
   "mimetype": "text/x-python",
   "name": "python",
   "nbconvert_exporter": "python",
   "pygments_lexer": "ipython3",
   "version": "3.6.8"
  }
 },
 "nbformat": 4,
 "nbformat_minor": 1
}
